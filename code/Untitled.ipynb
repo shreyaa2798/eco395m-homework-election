{
 "cells": [
  {
   "cell_type": "code",
   "execution_count": 3,
   "id": "0f9ebd69",
   "metadata": {},
   "outputs": [],
   "source": [
    "# %load election_2020.py\n",
    "import csv\n",
    "import os"
   ]
  },
  {
   "cell_type": "code",
   "execution_count": null,
   "id": "032d1e42",
   "metadata": {},
   "outputs": [],
   "source": [
    "IN_PATH = os.path.join(\"data\", \"countypres_2000-2020.csv\")\n",
    "OUTPUT_DIR = \"artifacts\"\n",
    "OUTPUT_PATH = os.path.join(OUTPUT_DIR, \"election_report.csv\")"
   ]
  },
  {
   "cell_type": "code",
   "execution_count": null,
   "id": "4dee1057",
   "metadata": {},
   "outputs": [],
   "source": [
    "def count_votes(path):\n",
    "\n",
    "    with open(IN_PATH, \"r\") as in_file:\n",
    "        counts = {}\n",
    "\n",
    "        dict_reader = csv.DictReader(in_file)\n",
    "\n",
    "        for row in dict_reader:\n",
    "            year = row[\"year\"]\n",
    "            state = row[\"state_po\"]\n",
    "            candidate = row[\"candidate\"]\n",
    "            votes = row[\"candidatevotes\"]\n",
    "            mode = row[\"mode\"]\n",
    "\n",
    "            key = (year, state, candidate)\n",
    "            \n",
    "\n",
    "            if not votes == \"NA\" and year == \"2020\":\n",
    "                votes_int = int(votes)\n",
    "\n",
    "                if key in counts:\n",
    "                    counts[key] += votes_int\n",
    "                else:\n",
    "                    counts[key] = votes_int\n",
    "\n",
    "    return counts"
   ]
  },
  {
   "cell_type": "code",
   "execution_count": null,
   "id": "5888531a",
   "metadata": {},
   "outputs": [],
   "source": [
    "def get_rows(counts):\n",
    "\n",
    "    rows = []\n",
    "    for key, votes in counts.items():\n",
    "        row = [*key, votes]\n",
    "        rows.append(row)\n",
    "\n",
    "    return rows\n",
    "\n",
    "\n",
    "def sort_rows(rows):\n",
    "\n",
    "    state_code_index = 1\n",
    "    votes_index = 3\n",
    "\n",
    "    rows_votes_ordered = sorted(rows, key=lambda row: row[votes_index], reverse=True)\n",
    "    rows_lex_ordered = sorted(rows_votes_ordered, key=lambda row: row[state_code_index])\n",
    "\n",
    "    return rows_lex_ordered\n",
    "\n",
    "\n",
    "def write_rows(rows):\n",
    "\n",
    "    with open(OUTPUT_PATH, \"w+\") as out_file:\n",
    "        csv_writer = csv.writer(out_file)\n",
    "        csv_writer.writerow([\"year\", \"state_code\", \"candidate\", \"votes\"])\n",
    "        csv_writer.writerow(rows)\n",
    "\n",
    "if __name__ == \"__main__\":\n",
    "\n",
    "    os.makedirs(OUTPUT_DIR, exist_ok=True)\n",
    "\n",
    "    counts = count_votes(IN_PATH)\n",
    "    rows = get_rows(counts)\n",
    "    sorted_rows = sort_rows(rows)\n",
    "    write_rows(sorted_rows)"
   ]
  },
  {
   "cell_type": "code",
   "execution_count": null,
   "id": "4d093305",
   "metadata": {},
   "outputs": [],
   "source": []
  }
 ],
 "metadata": {
  "kernelspec": {
   "display_name": "Python 3 (ipykernel)",
   "language": "python",
   "name": "python3"
  },
  "language_info": {
   "codemirror_mode": {
    "name": "ipython",
    "version": 3
   },
   "file_extension": ".py",
   "mimetype": "text/x-python",
   "name": "python",
   "nbconvert_exporter": "python",
   "pygments_lexer": "ipython3",
   "version": "3.10.7"
  }
 },
 "nbformat": 4,
 "nbformat_minor": 5
}
